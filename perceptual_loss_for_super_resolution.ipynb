{
 "cells": [
  {
   "cell_type": "markdown",
   "metadata": {},
   "source": [
    "# Content Loss for Super Resolution\n",
    "- L1, L2 Loss\n",
    "- Perceptual Loss\n",
    "- Texture/Style Loss "
   ]
  },
  {
   "cell_type": "code",
   "execution_count": 3,
   "metadata": {},
   "outputs": [
    {
     "name": "stderr",
     "output_type": "stream",
     "text": [
      "Using TensorFlow backend.\n"
     ]
    }
   ],
   "source": [
    "from keras.applications.vgg19 import VGG19, preprocess_input\n",
    "from keras.models import Model\n",
    "from keras.layers import Input\n",
    "import keras.backend as K\n",
    "import tensorflow as tf\n",
    "import cv2"
   ]
  },
  {
   "cell_type": "markdown",
   "metadata": {},
   "source": [
    "### 1. L1, L2(MSE) Loss\n",
    "\n",
    "$L_1=\\parallel I_{SR}-I_{HR} \\parallel$\n",
    "\n",
    "$L_2=\\parallel I_{SR}-I_{HR} \\parallel_2^2$\n",
    "\n",
    "Due to using full image information, those losses will produce over-smoothed images that lack high-frequency textures and do not look natural despite yielding high PSNR values."
   ]
  },
  {
   "cell_type": "code",
   "execution_count": 3,
   "metadata": {},
   "outputs": [],
   "source": [
    "def l1_loss(y_true, y_pred):\n",
    "    return K.mean(K.abs(y_true - y_pred))\n",
    "\n",
    "def l2_loss(y_true, y_pred):\n",
    "    return K.mean(K.square(y_true - y_pred))"
   ]
  },
  {
   "cell_type": "markdown",
   "metadata": {},
   "source": [
    "### 2. Perceptual Loss\n",
    "\n",
    "$L_{P}=\\parallel \\phi(I_{SR})-\\phi(I_{HR}) \\parallel_2^2$\n",
    "\n",
    "$\\phi(\\cdot)$ is one layer's output of VGG19.\n",
    "\n",
    "The result of perceptual loss looks slightly sharper than MSE, but it also produces unpleasing checkerboard artifacts."
   ]
  },
  {
   "cell_type": "code",
   "execution_count": 4,
   "metadata": {},
   "outputs": [],
   "source": [
    "def perceptual_loss(y_true, y_pred):  # y_true and y_pred's pixels are scaled between 0 to 255\n",
    "    y_true = preprocess_input(y_true)\n",
    "    y_pred = preprocess_input(y_pred)\n",
    "    vgg = VGG19(include_top=False, weights='imagenet', input_shape=(256,256,3))\n",
    "    loss_model = Model(inputs=vgg.input, outputs=vgg.get_layer('block3_conv3').output)\n",
    "    loss_model.trainable = False\n",
    "    return K.mean(K.square(loss_model(y_true)-loss_model(y_pred)))"
   ]
  },
  {
   "cell_type": "markdown",
   "metadata": {},
   "source": [
    "### 3. Texture/Style Loss\n",
    "\n",
    "$L_{T}=\\parallel G(\\phi(I_{SR}))-G(\\phi(I_{HR})) \\parallel_2^2$\n",
    "\n",
    "Gram matrix $G(F) = F^TF$\n",
    "\n",
    "It helps to generate more realistic textures."
   ]
  },
  {
   "cell_type": "code",
   "execution_count": 2,
   "metadata": {},
   "outputs": [],
   "source": [
    "def gram_matrix(x):\n",
    "    b, h, w, c = x.shape\n",
    "    size = h * w * c\n",
    "    feature = K.reshape(x, (b, h * w, c))\n",
    "    return tf.matmul(feature, feature, transpose_a=True) / size\n",
    "\n",
    "def style_loss(y_true, y_pred):\n",
    "    y_true = preprocess_input(y_true)\n",
    "    y_pred = preprocess_input(y_pred)\n",
    "    vgg = VGG19(include_top=False, weights='imagenet', input_shape=(256,256,3))\n",
    "    loss_model = Model(inputs=vgg.input, outputs=vgg.get_layer('block3_conv3').output)\n",
    "    loss_model.trainable = False\n",
    "    return K.mean(K.square(gram_matrix(loss_model(y_true))-gram_matrix(loss_model(y_pred))))"
   ]
  }
 ],
 "metadata": {
  "kernelspec": {
   "display_name": "Python 3",
   "language": "python",
   "name": "python3"
  },
  "language_info": {
   "codemirror_mode": {
    "name": "ipython",
    "version": 3
   },
   "file_extension": ".py",
   "mimetype": "text/x-python",
   "name": "python",
   "nbconvert_exporter": "python",
   "pygments_lexer": "ipython3",
   "version": "3.6.5"
  }
 },
 "nbformat": 4,
 "nbformat_minor": 2
}
